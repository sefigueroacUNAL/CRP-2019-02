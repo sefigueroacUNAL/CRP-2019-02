{
 "cells": [
  {
   "cell_type": "markdown",
   "metadata": {},
   "source": [
    "# Taller 1 - Procesamiento y Etiquetado de Datos"
   ]
  },
  {
   "cell_type": "markdown",
   "metadata": {},
   "source": [
    "**Docente:** Ph.D. John William Branch  \n",
    "**Asistente de Docencia:** Sergio Robles\n",
    "\n",
    "Clasificación y Reconocimiento de Patrones  \n",
    "Universidad Nacional - Sede Medellin"
   ]
  },
  {
   "cell_type": "markdown",
   "metadata": {},
   "source": [
    "### Notas del Taller  \n",
    "* Completar los cinco puntos propuestos\n",
    "* El dataset a utilizar es el archivo comprimido enviado por correo junto con este notebook\n",
    "\n",
    "#### Entrega\n",
    "* El Notebook debe ser enviado al correo: srobles@unal.edu.co\n",
    "* El Asunto del correo debe ser: CRP - Taller 1\n",
    "* El Correo debe tener adjunto un Notebook resuelto (Archivo con extensión 'ipynb')\n",
    "* El Correo debe tener adjunto 3 imagenes generadas a partir del último punto"
   ]
  },
  {
   "cell_type": "markdown",
   "metadata": {},
   "source": [
    "## Librerías"
   ]
  },
  {
   "cell_type": "markdown",
   "metadata": {},
   "source": [
    "Librerías y paquetes de python a utilizar en el siguiente notebook.  \n",
    "(Deben estar previamente instalados)"
   ]
  },
  {
   "cell_type": "code",
   "execution_count": null,
   "metadata": {},
   "outputs": [],
   "source": [
    "%matplotlib inline\n",
    "import random\n",
    "import numpy as np\n",
    "import pandas as pd\n",
    "import cv2\n",
    "import matplotlib.pyplot as plt\n",
    "import skimage as sk\n",
    "import glob\n",
    "from skimage import transform\n",
    "from skimage import util\n",
    "from sklearn import preprocessing\n",
    "from scipy import ndarray"
   ]
  },
  {
   "cell_type": "code",
   "execution_count": null,
   "metadata": {},
   "outputs": [],
   "source": [
    "# Utils\n",
    "def random_rotation(image_array: ndarray):\n",
    "    # pick a random degree of rotation between 25% on the left and 25% on the right\n",
    "    random_degree = random.uniform(-25, 25)\n",
    "    return sk.transform.rotate(image_array, random_degree)\n",
    "\n",
    "def random_noise(image_array: ndarray):\n",
    "    # add random noise to the image\n",
    "    return sk.util.random_noise(image_array)\n",
    "\n",
    "def horizontal_flip(image_array: ndarray):\n",
    "    # horizontal flip doesn't need skimage, it's easy as flipping the image array of pixels !\n",
    "    return image_array[:, ::-1]"
   ]
  },
  {
   "cell_type": "markdown",
   "metadata": {},
   "source": [
    "## Datos No Estructurados"
   ]
  },
  {
   "cell_type": "code",
   "execution_count": null,
   "metadata": {},
   "outputs": [],
   "source": [
    "images = []\n",
    "data = []"
   ]
  },
  {
   "cell_type": "markdown",
   "metadata": {},
   "source": [
    "#### Primer punto"
   ]
  },
  {
   "cell_type": "code",
   "execution_count": null,
   "metadata": {},
   "outputs": [],
   "source": [
    "# Leer las 11 imagenes almacenadas en la ruta data/images y almacenarlas en el array images\n",
    "# Tip: Utilizar opencv\n",
    "# Tip: Las imagenes a través de opencv son leidas en formato BGR, cambiar el formato a RGB\n",
    "\n",
    "# ESCRIBA SU CÓDIGO AQUÍ\n",
    "#La imagen 11 se volvió a guardar en un editor externo\n",
    "dirs = glob.glob('data/*')\n",
    "dirs.sort()\n",
    "#print (dirs)\n",
    "for dir in dirs:\n",
    "    #print (dir)\n",
    "    img = cv2.imread(dir)\n",
    "    \n",
    "    if img is not None:\n",
    "        img = cv2.cvtColor(img, cv2.COLOR_BGR2RGB)\n",
    "    else:\n",
    "        img = plt.imread(dir)\n",
    "    #print (img)\n",
    "    images.append(img)\n",
    "    "
   ]
  },
  {
   "cell_type": "markdown",
   "metadata": {},
   "source": [
    "#### Segundo punto"
   ]
  },
  {
   "cell_type": "code",
   "execution_count": null,
   "metadata": {
    "scrolled": true
   },
   "outputs": [],
   "source": [
    "# Imprimir una imagen leida\n",
    "# Tip: Utilizar matplotlib\n",
    "\n",
    "# ESCRIBA SU CÓDIGO AQUÍ\n",
    "plt.imshow(images[10])"
   ]
  },
  {
   "cell_type": "markdown",
   "metadata": {},
   "source": [
    "### Normalización y Otros"
   ]
  },
  {
   "cell_type": "markdown",
   "metadata": {},
   "source": [
    "#### Tercer punto"
   ]
  },
  {
   "cell_type": "code",
   "execution_count": null,
   "metadata": {},
   "outputs": [],
   "source": [
    "images_resize = []"
   ]
  },
  {
   "cell_type": "code",
   "execution_count": null,
   "metadata": {},
   "outputs": [],
   "source": [
    "# Realizar un resize a las imagenes almacenas y guardarlas en la variable images_resize (150x150)\n",
    "# Tip: Utilizar opencv\n",
    "\n",
    "# ESCRIBA SU CÓDIGO AQUÍ\n",
    "for img in images:\n",
    "    aux = cv2.resize(img,(150,150))\n",
    "    images_resize.append(aux)"
   ]
  },
  {
   "cell_type": "markdown",
   "metadata": {},
   "source": [
    "#### Cuarto punto"
   ]
  },
  {
   "cell_type": "code",
   "execution_count": null,
   "metadata": {},
   "outputs": [],
   "source": [
    "images_normalize = []"
   ]
  },
  {
   "cell_type": "code",
   "execution_count": null,
   "metadata": {},
   "outputs": [],
   "source": [
    "# Realizar un normalizado en la intensidad de colores en las imagenes almacenadas\n",
    "# Tip: Utilizar opencv o matemáticas\n",
    "for img in images_resize:\n",
    "    aux = cv2.normalize(img,None,alpha = 0,beta=1,norm_type=cv2.NORM_MINMAX, dtype =cv2.CV_32F)\n",
    "    images_normalize.append(aux)\n",
    "# ESCRIBA SU CÓDIGO AQUÍ\n"
   ]
  },
  {
   "cell_type": "markdown",
   "metadata": {},
   "source": [
    "### Etiquetado"
   ]
  },
  {
   "cell_type": "markdown",
   "metadata": {},
   "source": [
    "#### Quinto punto"
   ]
  },
  {
   "cell_type": "code",
   "execution_count": null,
   "metadata": {},
   "outputs": [],
   "source": [
    "label = []"
   ]
  },
  {
   "cell_type": "code",
   "execution_count": null,
   "metadata": {},
   "outputs": [],
   "source": [
    "# Realizar un etiquetado manual de las imagenes almacenadas en la variable images y almacenarlos en la variable label\n",
    "# Se deben guardar las imagenes en un diccionario de python, donde cada valor del diccionario es una lista de todas las imagenes que se encuentran en esa clase.\n",
    "# Ejemplo: mis_datos = { 'perros': [imagen_perro1, imagen_perro2], 'gatos': [imagen_gato1, imagen_gato2] }\n",
    "# ESCRIBA SU CÓDIGO AQUÍ\n",
    "label = {'PENDRIVE':[images_normalize[0],images_normalize[6]],\n",
    "         'HANDBAG':[images_normalize[1],images_normalize[4]],\n",
    "         'PHOTOCOPIER':[images_normalize[2],images_normalize[8],images_normalize[10]],\n",
    "         'STAPLER':[images_normalize[3],images_normalize[7],images_normalize[9]], \n",
    "         'SCISSORS':[images_normalize[5],images_normalize[11]]    \n",
    "        }\n",
    "plt.imshow(label['STAPLER'][2])"
   ]
  },
  {
   "cell_type": "markdown",
   "metadata": {},
   "source": [
    "### Images augmentation"
   ]
  },
  {
   "cell_type": "markdown",
   "metadata": {},
   "source": [
    "**Sexto punto**  \n",
    "Utilizar el código para generar 2 nuevas imagenes por cada imagen que se tienen en el dataset. (Solo enviar 3 imagenes generadas)"
   ]
  },
  {
   "cell_type": "code",
   "execution_count": null,
   "metadata": {},
   "outputs": [],
   "source": [
    "images = images_normalize"
   ]
  },
  {
   "cell_type": "code",
   "execution_count": null,
   "metadata": {},
   "outputs": [],
   "source": [
    "available_transformations = {\n",
    "    'rotate': random_rotation,\n",
    "    'noise': random_noise,\n",
    "    'horizontal_flip': horizontal_flip\n",
    "}\n",
    "\n",
    "augmentation_images = []\n",
    "for img in images:\n",
    "    num_transformations_to_apply = random.randint(1, len(available_transformations))\n",
    "    #print (num_transformations_to_apply)\n",
    "    num_transformations = 0\n",
    "    transformed_image = None\n",
    "    while num_transformations <= num_transformations_to_apply:\n",
    "        # choose a random transformation to apply for a single image\n",
    "        key = random.choice(list(available_transformations))\n",
    "        img = random.choice(list(images))\n",
    "        transformed_image = available_transformations[key](img)\n",
    "        num_transformations += 1\n",
    "        augmentation_images.append(transformed_image)"
   ]
  },
  {
   "cell_type": "code",
   "execution_count": null,
   "metadata": {},
   "outputs": [],
   "source": [
    "for i  in range(len(augmentation_images)):\n",
    "    plt.imsave('data/'+ \"AM\"+str(i).zfill(2)+\".jpg\",augmentation_images[i])"
   ]
  },
  {
   "cell_type": "code",
   "execution_count": null,
   "metadata": {},
   "outputs": [],
   "source": []
  }
 ],
 "metadata": {
  "kernelspec": {
   "display_name": "Python 3",
   "language": "python",
   "name": "python3"
  },
  "language_info": {
   "codemirror_mode": {
    "name": "ipython",
    "version": 3
   },
   "file_extension": ".py",
   "mimetype": "text/x-python",
   "name": "python",
   "nbconvert_exporter": "python",
   "pygments_lexer": "ipython3",
   "version": "3.7.4"
  }
 },
 "nbformat": 4,
 "nbformat_minor": 2
}
